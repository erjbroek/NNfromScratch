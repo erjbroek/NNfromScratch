{
 "cells": [
  {
   "cell_type": "code",
   "execution_count": 203,
   "metadata": {},
   "outputs": [],
   "source": [
    "import numpy as np\n",
    "import matplotlib.pyplot as plt\n",
    "from sklearn.datasets import load_iris"
   ]
  },
  {
   "cell_type": "code",
   "execution_count": 204,
   "metadata": {},
   "outputs": [],
   "source": [
    "iris = load_iris()"
   ]
  },
  {
   "cell_type": "code",
   "execution_count": 256,
   "metadata": {},
   "outputs": [],
   "source": [
    "class NeuralNetwork:\n",
    "\n",
    "  # the weights are a matrix (can be seen as nested lists)\n",
    "  # the first dimension is the amount of nodes in the previous layer\n",
    "  # the second dimension is the amount of nodes in the next layer\n",
    "  # the bias is a vector (like a single list) of zeros, which will be updated during backpropagation\n",
    "  def __init__(self, input_size, hidden_size, output_size):\n",
    "    # he initialization is used to initialise weights\n",
    "    self.W_IH = np.random.randn(input_size, hidden_size) * np.sqrt(2.0 / input_size)\n",
    "    self.W_HO = np.random.randn(hidden_size, output_size) * np.sqrt(2.0 / hidden_size)\n",
    "    self.b_H = np.zeros(hidden_size)\n",
    "    self.b_O = np.zeros(output_size)\n",
    "  \n",
    "  # the feedforward function calculates the output of the network\n",
    "  # here, the hidden layer uses the relu activation function\n",
    "  # the output layer uses the softmax activation function\n",
    "  def feedforward(self, x):\n",
    "    self.hidden_z = np.dot(x, self.W_IH) + self.b_H\n",
    "    self.hidden_activation = self.relu(self.hidden_z)\n",
    "\n",
    "    self.output_z = np.dot(self.hidden_activation, self.W_HO) + self.b_O\n",
    "    self.output_activation = self.softmax(self.output_z)\n",
    "    return self.output_activation\n",
    "  \n",
    "  # the cost function used is the cross-entropy loss\n",
    "  # this basically calculates how accurate the prediction is\n",
    "  def cost(self, y_hat, y, deriv=False):\n",
    "    if deriv:\n",
    "        return y_hat - y \n",
    "    y_hat = np.clip(y_hat, 1e-15, 1. - 1e-15)\n",
    "    return -np.mean(np.sum(y * np.log(y_hat), axis=-1))\n",
    "\n",
    "  \n",
    "  # the relu activation function is used for the hidden layer\n",
    "  # it can basically be seen as returning 0 if negative, and the value if positive\n",
    "  def relu(self, x, deriv=False):\n",
    "    if deriv:\n",
    "        return (x > 0).astype(float)\n",
    "    return np.maximum(0, x)\n",
    "    \n",
    "  # the softmax activation function is used for the output layer\n",
    "  # it calculates the probability of each class, where the highest probability is the prediction\n",
    "  def softmax(self, x):\n",
    "    e_x = np.exp(x - np.max(x, axis=1, keepdims=True))\n",
    "    return e_x / np.sum(e_x, axis=1, keepdims=True)\n",
    "\n",
    "  \n",
    "  # the backpropagation function calculates the error of the prediction\n",
    "  # and updates the weights and biases\n",
    "  # simply explained, using the chain rule it's able to see what direction to update the weights\n",
    "  # the learning rate is used to determine how much the weights should be updated\n",
    "  def backpropagation(self, x, y_hat, y, learning_rate):\n",
    "    Eo = self.cost(y_hat, y, deriv=True)\n",
    "    Eh = np.dot(Eo, self.W_HO.T) * self.relu(self.hidden_z, True)\n",
    "\n",
    "    self.W_IH -= learning_rate * np.dot(x.T, Eh)\n",
    "    self.b_H -= learning_rate * np.sum(Eh, axis=0)\n",
    "    self.W_HO -= learning_rate * np.dot(self.hidden_activation.T, Eo)\n",
    "    self.b_O -= learning_rate * np.sum(Eo, axis=0)\n",
    "\n",
    "  def train_bgd(self, x, y, epochs, learning_rate):\n",
    "    loss = []\n",
    "    accuracy = []\n",
    "    for epoch in range(epochs):\n",
    "      y_hat = self.feedforward(x)\n",
    "      self.backpropagation(x, y_hat, y, learning_rate)\n",
    "      loss.append(self.cost(y_hat, y))\n",
    "      predictions = np.argmax(y_hat, axis=1)\n",
    "      targets = np.argmax(y, axis=1)\n",
    "      acc = np.mean(predictions == targets) * 100\n",
    "      accuracy.append(acc)\n",
    "      print(f\"Epoch {epoch} - Loss: {self.cost(y_hat, y)}, Accuracy: {acc}%\")\n",
    "    return loss, accuracy\n",
    "  \n",
    "  def train_mbgd(self, x, y, epochs, learning_rate, batch_size):\n",
    "    loss = []\n",
    "    accuracy = []\n",
    "    n_samples = x.shape[0]\n",
    "    \n",
    "    for epoch in range(epochs):\n",
    "      indices = np.arange(n_samples)\n",
    "      np.random.shuffle(indices)\n",
    "      x = x[indices]\n",
    "      y = y[indices]\n",
    "      \n",
    "      for start in range(0, n_samples, batch_size):\n",
    "        end = min(start + batch_size, n_samples)\n",
    "        batch_x = x[start:end]\n",
    "        batch_y = y[start:end]\n",
    "        \n",
    "        y_hat = self.feedforward(batch_x)\n",
    "        self.backpropagation(batch_x, y_hat, batch_y, learning_rate)\n",
    "      \n",
    "      y_hat = self.feedforward(x)\n",
    "      loss.append(self.cost(y_hat, y))\n",
    "      predictions = np.argmax(y_hat, axis=1)\n",
    "      targets = np.argmax(y, axis=1)\n",
    "      acc = np.mean(predictions == targets) * 100\n",
    "      accuracy.append(acc)\n",
    "    \n",
    "    return loss, accuracy\n",
    "  \n",
    "  def predict(self, x, y):\n",
    "    output = self.feedforward(x)\n",
    "\n",
    "    true_class = np.argmax(y, axis=1)\n",
    "    predicted_class = np.argmax(output, axis=1)\n",
    "    accuracy = np.mean(predicted_class == true_class)\n",
    "    \n",
    "\n",
    "    return accuracy"
   ]
  },
  {
   "cell_type": "code",
   "execution_count": 257,
   "metadata": {},
   "outputs": [
    {
     "name": "stdout",
     "output_type": "stream",
     "text": [
      "input size: 4, hidden size: 7, output size: 3\n"
     ]
    },
    {
     "data": {
      "text/plain": [
       "[<matplotlib.lines.Line2D at 0x26d7d73d040>]"
      ]
     },
     "execution_count": 257,
     "metadata": {},
     "output_type": "execute_result"
    },
    {
     "data": {
      "image/png": "[encoded data removed]",
      "text/plain": [
       "<Figure size 640x480 with 1 Axes>"
      ]
     },
     "metadata": {},
     "output_type": "display_data"
    }
   ],
   "source": [
    "input_size = len(iris['data'][0])\n",
    "output_size = len(np.unique(iris['target']))\n",
    "hidden_size = 7\n",
    "print(f\"input size: {input_size}, hidden size: {hidden_size}, output size: {output_size}\")\n",
    "\n",
    "x = iris['data']\n",
    "y = np.eye(output_size)[iris['target']]\n",
    "\n",
    "network = NeuralNetwork(input_size, hidden_size, output_size)\n",
    "epochs = 3000\n",
    "learning_rate = 0.0001\n",
    "loss, accuracy = network.train_mbgd(x, y, epochs, learning_rate, 20)\n",
    "plt.plot(accuracy)"
   ]
  },
  {
   "cell_type": "code",
   "execution_count": null,
   "metadata": {},
   "outputs": [],
   "source": []
  }
 ],
 "metadata": {
  "kernelspec": {
   "display_name": "Python 3",
   "language": "python",
   "name": "python3"
  },
  "language_info": {
   "codemirror_mode": {
    "name": "ipython",
    "version": 3
   },
   "file_extension": ".py",
   "mimetype": "text/x-python",
   "name": "python",
   "nbconvert_exporter": "python",
   "pygments_lexer": "ipython3",
   "version": "3.12.3"
  }
 },
 "nbformat": 4,
 "nbformat_minor": 2
}
