{
 "cells": [
  {
   "cell_type": "code",
   "execution_count": null,
   "metadata": {},
   "outputs": [],
   "source": [
    "import numpy as np\n",
    "import matplotlib.pyplot as plt\n",
    "from sklearn.datasets import load_iris\n",
    "import pandas as pd\n",
    "from sklearn.model_selection import train_test_split\n",
    "from models.mlp import Mlp\n",
    "from models.dynamic_mlp import dynamic_mlp\n"
   ]
  },
  {
   "cell_type": "code",
   "execution_count": null,
   "metadata": {},
   "outputs": [],
   "source": [
    "iris = load_iris()\n",
    "train_x, test_x, train_y, test_y = train_test_split(iris['data'], iris['target'], test_size=0.2, random_state=42)\n",
    "train_y = np.eye(3)[train_y]\n",
    "test_y = np.eye(3)[test_y]\n",
    "\n",
    "mnist_train = pd.read_csv('./data/mnist/mnist_train.csv', header=None)\n",
    "mnist_test = pd.read_csv('./data/mnist/mnist_test.csv', header=None)\n",
    "\n",
    "fashion_mnist_train = pd.read_csv('./data/fashion_mnist/fashion_mnist_train.csv', header=None, skiprows=1)\n",
    "fashion_mnist_test = pd.read_csv('./data/fashion_mnist/fashion_mnist_test.csv', header=None, skiprows=1)"
   ]
  },
  {
   "cell_type": "markdown",
   "metadata": {},
   "source": [
    "# iris dataset"
   ]
  },
  {
   "cell_type": "code",
   "execution_count": null,
   "metadata": {},
   "outputs": [],
   "source": [
    "input_size = len(iris['data'][0])\n",
    "output_size = len(np.unique(iris['target']))\n",
    "hidden_size = 7\n",
    "print(f\"input size: {input_size}, hidden size: {hidden_size}, output size: {output_size}\")\n",
    "\n",
    "network = Mlp(input_size, hidden_size, output_size)\n",
    "epochs = 3000\n",
    "learning_rate = 0.0001\n",
    "\n",
    "train_accuracies = []\n",
    "test_accuracies = []\n",
    "\n",
    "for i in range(1):\n",
    "  loss, accuracy = network.train_mbgd(train_x, train_y, epochs, learning_rate, 5)\n",
    "  train_accuracies.append(accuracy[-1])\n",
    "  test_accuracy, _, _ = network.evaluate(test_x, test_y)\n",
    "  test_accuracies.append(test_accuracy)\n",
    "  if i == 0:\n",
    "    plt.plot(accuracy)\n",
    "    plt.xlabel('Epochs')\n",
    "    plt.ylabel('Accuracy')\n",
    "    plt.title('Training Accuracy over Epochs')\n",
    "    plt.show()\n",
    "\n",
    "avg_train_accuracy = np.mean(train_accuracies)\n",
    "std_train_accuracy = np.std(train_accuracies)\n",
    "avg_test_accuracy = np.mean(test_accuracies)\n",
    "std_test_accuracy = np.std(test_accuracies)\n",
    "\n",
    "print(f\"Average Training Accuracy: {avg_train_accuracy:.2f}% ± {std_train_accuracy:.2f}%\")\n",
    "print(f\"Average Testing Accuracy: {avg_test_accuracy:.2f}% ± {std_test_accuracy:.2f}%\")"
   ]
  },
  {
   "cell_type": "code",
   "execution_count": null,
   "metadata": {},
   "outputs": [],
   "source": [
    "def render_mnist_predictions(data, predicted, true_number, amount_correct, amount_false, is_fashion=False):\n",
    "  fashion_list = ['T-shirt/top', 'Trouser', 'Pullover', 'Dress', 'Coat', 'Sandal', 'Shirt', 'Sneaker', 'Bag', 'Ankle boot']\n",
    "  correct_indices = np.where(predicted == true_number)[0]\n",
    "  false_indices = np.where(predicted != true_number)[0]\n",
    "\n",
    "  fig, axes = plt.subplots(1, amount_correct, figsize=(15, 3))\n",
    "  for idx, ax in zip(correct_indices[:amount_correct], axes):\n",
    "    ax.imshow(data[idx].reshape(28, 28), cmap='gray')\n",
    "    if is_fashion:\n",
    "      ax.set_title(f\"predicted: {fashion_list[predicted[idx]]}/ {fashion_list[true_number[idx]]}\", fontsize=11)\n",
    "    else:\n",
    "      ax.set_title(f\"Predicted: {predicted[idx]}, True: {true_number[idx]}\")\n",
    "    ax.axis('off')\n",
    "  plt.suptitle('Predictions')\n",
    "  plt.show()\n",
    "\n",
    "  fig, axes = plt.subplots(1, amount_false, figsize=(15, 3))\n",
    "  for idx, ax in zip(false_indices[:amount_false], axes):\n",
    "    ax.imshow(data[idx].reshape(28, 28), cmap='gray')\n",
    "    if is_fashion:\n",
    "      ax.set_title(f\"y_hat: {fashion_list[predicted[idx]]}/ {fashion_list[true_number[idx]]}\", fontsize=11)\n",
    "    else:\n",
    "      ax.set_title(f\"Predicted: {predicted[idx]}, True: {true_number[idx]}\")\n",
    "    ax.axis('off')\n",
    "  plt.suptitle('Incorrect Predictions')\n",
    "  plt.show()"
   ]
  },
  {
   "cell_type": "code",
   "execution_count": null,
   "metadata": {},
   "outputs": [],
   "source": [
    "import numpy as np\n",
    "from tensorflow.keras.preprocessing.image import ImageDataGenerator\n",
    "\n",
    "def augment_mnist(data): \n",
    "  X = data.iloc[:, 1:].values.reshape(-1, 28, 28, 1) / 255.0\n",
    "  y = data.iloc[:, 0].values\n",
    "\n",
    "  X_augmented = np.empty_like(X)\n",
    "    \n",
    "  for i in range(len(X)):\n",
    "    # beta is for rotation or horizontal shearing\n",
    "    beta = np.random.uniform(-7.5, 7.5) if y[i] in [1, 7] else np.random.uniform(-15.0, 15.0)\n",
    "\n",
    "    # gamma is for horizontal and vertical scaling\n",
    "    gamma = np.random.uniform(15, 20)\n",
    "    scale_x = np.random.uniform(1 - gamma / 100, 1 + gamma / 100)\n",
    "    scale_y = np.random.uniform(1 - gamma / 100, 1 + gamma / 100)\n",
    "\n",
    "    datagen = ImageDataGenerator(\n",
    "      rotation_range=beta,\n",
    "      shear_range=np.tan(np.radians(beta)),\n",
    "      zoom_range=[scale_x, scale_y]\n",
    "    )\n",
    "\n",
    "    X_augmented[i] = datagen.random_transform(X[i])\n",
    "\n",
    "  X_augmented = X_augmented.reshape(-1, 784)\n",
    "  augmented_data = np.column_stack((y, X_augmented))\n",
    "  return pd.DataFrame(augmented_data)\n"
   ]
  },
  {
   "cell_type": "code",
   "execution_count": null,
   "metadata": {},
   "outputs": [],
   "source": [
    "def render_mnist_augmentation(data, augmented_data, amount_images):\n",
    "  X = data.iloc[:, 1:].values / 255\n",
    "  y = data.iloc[:, 0].values\n",
    "\n",
    "  augmented_data = augmented_data.iloc[:, 1:].values / 255\n",
    "\n",
    "  fig, axes = plt.subplots(2, amount_images, figsize=(15, 6))\n",
    "\n",
    "  for idx, ax in zip(range(amount_images), axes[0]):\n",
    "    ax.imshow(X[idx].reshape(28, 28), cmap='gray')\n",
    "    ax.set_title(f\"Original: {y[idx]}\")\n",
    "    ax.axis('off')\n",
    "\n",
    "  for idx, ax in zip(range(amount_images), axes[1]):\n",
    "    ax.imshow(augmented_data[idx].reshape(28, 28), cmap='gray')\n",
    "    ax.set_title(f\"Augmented: {y[idx]}\")\n",
    "    ax.axis('off')\n",
    "\n",
    "  plt.suptitle('Original and Augmented Images')\n",
    "  plt.show()"
   ]
  },
  {
   "cell_type": "code",
   "execution_count": 74,
   "metadata": {},
   "outputs": [
    {
     "data": {
      "image/png": "[encoded data removed]",
      "text/plain": [
       "<Figure size 1500x600 with 10 Axes>"
      ]
     },
     "metadata": {},
     "output_type": "display_data"
    }
   ],
   "source": [
    "clean_mnist = mnist_train\n",
    "augmented_mnist = augment_mnist(clean_mnist)\n",
    "render_mnist_augmentation(clean_mnist.iloc[516:530], augmented_mnist.iloc[516:530], 5)\n"
   ]
  },
  {
   "cell_type": "code",
   "execution_count": null,
   "metadata": {},
   "outputs": [],
   "source": [
    "mnist_train_x = mnist_train.iloc[:, 1:].values / 255\n",
    "mnist_train_y = np.eye(10)[mnist_train.iloc[:, 0].values]\n",
    "mnist_test_x = mnist_test.iloc[:, 1:].values / 255\n",
    "mnist_test_y = np.eye(10)[mnist_test.iloc[:, 0].values]\n",
    "\n",
    "network = dynamic_mlp(mnist_train_x, mnist_train_y, mnist_test_x, mnist_test_y, len(mnist_train_x[0]), 1, 1, [700])\n",
    "network.train(30, 64)"
   ]
  },
  {
   "cell_type": "markdown",
   "metadata": {},
   "source": [
    "# MNIST dataset"
   ]
  },
  {
   "cell_type": "code",
   "execution_count": null,
   "metadata": {},
   "outputs": [],
   "source": [
    "mnist_train_x = mnist_train.iloc[:, 1:].values / 255\n",
    "mnist_train_y = np.eye(10)[mnist_train.iloc[:, 0].values]\n",
    "mnist_test_x = mnist_test.iloc[:, 1:].values / 255\n",
    "mnist_test_y = np.eye(10)[mnist_test.iloc[:, 0].values]\n",
    "\n",
    "input_size = len(mnist_train_x[0])\n",
    "output_size = len(np.unique(mnist_train.iloc[:, 0].values))\n",
    "hidden_size = input_size // 2\n",
    "print(f\"input size: {input_size}, hidden size: {hidden_size}, output size: {output_size}\")\n",
    "\n",
    "network = Mlp(input_size, hidden_size, output_size)\n",
    "epochs = 10\n",
    "learning_rate = 0.01\n",
    "\n",
    "loss, accuracy = network.train_mbgd(mnist_train_x, mnist_train_y, epochs, learning_rate, 64)\n",
    "test_accuracy, predicted_class, true_class = network.evaluate(mnist_test_x, mnist_test_y)\n",
    "\n",
    "print(f\"Test accuracy in % {test_accuracy}\")\n",
    "render_mnist_predictions(mnist_test_x, predicted_class, true_class, 5, 5)"
   ]
  },
  {
   "cell_type": "markdown",
   "metadata": {},
   "source": [
    "# fashion MNIST dataset"
   ]
  },
  {
   "cell_type": "code",
   "execution_count": null,
   "metadata": {},
   "outputs": [],
   "source": [
    "fashion_mnist_train_x = fashion_mnist_train.iloc[:, 1:].values / 255\n",
    "fashion_mnist_train_y = np.eye(10)[fashion_mnist_train.iloc[:, 0].values]\n",
    "fashion_mnist_test_x = fashion_mnist_test.iloc[:, 1:].values / 255\n",
    "fashion_mnist_test_y = np.eye(10)[fashion_mnist_test.iloc[:, 0].values]\n",
    "\n",
    "input_size = len(fashion_mnist_train_x[0])\n",
    "output_size = len(np.unique(fashion_mnist_train.iloc[:, 0].values))\n",
    "hidden_size = input_size // 2\n",
    "print(f\"input size: {input_size}, hidden size: {hidden_size}, output size: {output_size}\")\n",
    "\n",
    "network = Mlp(input_size, hidden_size, output_size)\n",
    "epochs = 30\n",
    "learning_rate = 0.001\n",
    "\n",
    "loss, accuracy = network.train_mbgd(fashion_mnist_train_x, fashion_mnist_train_y, epochs, learning_rate, 64)\n",
    "test_accuracy, predicted_class, true_class = network.evaluate(fashion_mnist_test_x, fashion_mnist_test_y)\n",
    "\n",
    "print(f\"Test accuracy in % {test_accuracy}\")\n",
    "render_mnist_predictions(fashion_mnist_test_x, predicted_class, true_class, 5, 5, True)\n",
    "\n",
    "\n"
   ]
  }
 ],
 "metadata": {
  "kernelspec": {
   "display_name": "Python 3",
   "language": "python",
   "name": "python3"
  },
  "language_info": {
   "codemirror_mode": {
    "name": "ipython",
    "version": 3
   },
   "file_extension": ".py",
   "mimetype": "text/x-python",
   "name": "python",
   "nbconvert_exporter": "python",
   "pygments_lexer": "ipython3",
   "version": "3.12.3"
  }
 },
 "nbformat": 4,
 "nbformat_minor": 2
}
