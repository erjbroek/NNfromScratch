{
 "cells": [
  {
   "cell_type": "code",
   "execution_count": 1,
   "metadata": {},
   "outputs": [],
   "source": [
    "import numpy as np\n",
    "import matplotlib.pyplot as plt\n",
    "from sklearn.datasets import load_iris\n",
    "import pandas as pd\n",
    "from sklearn.model_selection import train_test_split\n",
    "from models.mlp import Mlp\n",
    "from models.dynamic_mlp import dynamic_mlp"
   ]
  },
  {
   "cell_type": "code",
   "execution_count": 2,
   "metadata": {},
   "outputs": [],
   "source": [
    "iris = load_iris()\n",
    "train_x, test_x, train_y, test_y = train_test_split(iris['data'], iris['target'], test_size=0.2, random_state=42)\n",
    "train_y = np.eye(3)[train_y]\n",
    "test_y = np.eye(3)[test_y]\n",
    "\n",
    "mnist_train = pd.read_csv('./data/mnist/mnist_train.csv', header=None)\n",
    "mnist_test = pd.read_csv('./data/mnist/mnist_test.csv', header=None)\n",
    "\n",
    "fashion_mnist_train = pd.read_csv('./data/fashion_mnist/fashion_mnist_train.csv', header=None, skiprows=1)\n",
    "fashion_mnist_test = pd.read_csv('./data/fashion_mnist/fashion_mnist_test.csv', header=None, skiprows=1)"
   ]
  },
  {
   "cell_type": "code",
   "execution_count": 22,
   "metadata": {},
   "outputs": [
    {
     "name": "stdout",
     "output_type": "stream",
     "text": [
      "Input size: 784, Output size: 10\n"
     ]
    },
    {
     "ename": "IndexError",
     "evalue": "index 15824 is out of bounds for axis 0 with size 10000",
     "output_type": "error",
     "traceback": [
      "\u001b[1;31m---------------------------------------------------------------------------\u001b[0m",
      "\u001b[1;31mIndexError\u001b[0m                                Traceback (most recent call last)",
      "Cell \u001b[1;32mIn[22], line 7\u001b[0m\n\u001b[0;32m      4\u001b[0m mnist_test_y \u001b[38;5;241m=\u001b[39m np\u001b[38;5;241m.\u001b[39meye(\u001b[38;5;241m10\u001b[39m)[mnist_test\u001b[38;5;241m.\u001b[39miloc[:, \u001b[38;5;241m0\u001b[39m]\u001b[38;5;241m.\u001b[39mvalues]\n\u001b[0;32m      6\u001b[0m network \u001b[38;5;241m=\u001b[39m dynamic_mlp(mnist_train_x, mnist_train_y, mnist_test_x, mnist_test_y, \u001b[38;5;28mlen\u001b[39m(mnist_train_x[\u001b[38;5;241m0\u001b[39m]), \u001b[38;5;241m10\u001b[39m, \u001b[38;5;241m1\u001b[39m, [\u001b[38;5;241m500\u001b[39m])\n\u001b[1;32m----> 7\u001b[0m \u001b[43mnetwork\u001b[49m\u001b[38;5;241;43m.\u001b[39;49m\u001b[43mtrain\u001b[49m\u001b[43m(\u001b[49m\u001b[38;5;241;43m50\u001b[39;49m\u001b[43m,\u001b[49m\u001b[43m \u001b[49m\u001b[38;5;241;43m64\u001b[39;49m\u001b[43m)\u001b[49m\n",
      "File \u001b[1;32mc:\\code\\network\\models\\dynamic_mlp.py:39\u001b[0m, in \u001b[0;36mdynamic_mlp.train\u001b[1;34m(self, epochs, batch_size)\u001b[0m\n\u001b[0;32m     37\u001b[0m np\u001b[38;5;241m.\u001b[39mrandom\u001b[38;5;241m.\u001b[39mshuffle(indices)\n\u001b[0;32m     38\u001b[0m x \u001b[38;5;241m=\u001b[39m \u001b[38;5;28mself\u001b[39m\u001b[38;5;241m.\u001b[39mx_train[indices]\n\u001b[1;32m---> 39\u001b[0m y \u001b[38;5;241m=\u001b[39m \u001b[38;5;28;43mself\u001b[39;49m\u001b[38;5;241;43m.\u001b[39;49m\u001b[43my_train\u001b[49m\u001b[43m[\u001b[49m\u001b[43mindices\u001b[49m\u001b[43m]\u001b[49m\n\u001b[0;32m     40\u001b[0m x \u001b[38;5;241m=\u001b[39m augment(x, y)\n\u001b[0;32m     42\u001b[0m \u001b[38;5;28;01mfor\u001b[39;00m start \u001b[38;5;129;01min\u001b[39;00m \u001b[38;5;28mrange\u001b[39m(\u001b[38;5;241m0\u001b[39m, n_samples, batch_size):\n",
      "\u001b[1;31mIndexError\u001b[0m: index 15824 is out of bounds for axis 0 with size 10000"
     ]
    }
   ],
   "source": [
    "mnist_train_x = mnist_train.iloc[:, 1:].values\n",
    "mnist_train_y = np.eye(10)[mnist_train.iloc[:, 0].values]\n",
    "mnist_test_x = mnist_test.iloc[:, 1:].values\n",
    "mnist_test_y = np.eye(10)[mnist_test.iloc[:, 0].values]\n",
    "\n",
    "network = dynamic_mlp(mnist_train_x, mnist_train_y, mnist_test_x, mnist_test_y, len(mnist_train_x[0]), 10, 1, [500])\n",
    "network.train(50, 64)"
   ]
  },
  {
   "cell_type": "markdown",
   "metadata": {},
   "source": [
    "# iris dataset"
   ]
  },
  {
   "cell_type": "code",
   "execution_count": null,
   "metadata": {},
   "outputs": [],
   "source": [
    "input_size = len(iris['data'][0])\n",
    "output_size = len(np.unique(iris['target']))\n",
    "hidden_size = 7\n",
    "print(f\"input size: {input_size}, hidden size: {hidden_size}, output size: {output_size}\")\n",
    "\n",
    "network = Mlp(input_size, hidden_size, output_size)\n",
    "epochs = 3000\n",
    "learning_rate = 0.0001\n",
    "\n",
    "train_accuracies = []\n",
    "test_accuracies = []\n",
    "\n",
    "for i in range(1):\n",
    "  loss, accuracy = network.train_mbgd(train_x, train_y, epochs, learning_rate, 5)\n",
    "  train_accuracies.append(accuracy[-1])\n",
    "  test_accuracy, _, _ = network.evaluate(test_x, test_y)\n",
    "  test_accuracies.append(test_accuracy)\n",
    "  if i == 0:\n",
    "    plt.plot(accuracy)\n",
    "    plt.xlabel('Epochs')\n",
    "    plt.ylabel('Accuracy')\n",
    "    plt.title('Training Accuracy over Epochs')\n",
    "    plt.show()\n",
    "\n",
    "avg_train_accuracy = np.mean(train_accuracies)\n",
    "std_train_accuracy = np.std(train_accuracies)\n",
    "avg_test_accuracy = np.mean(test_accuracies)\n",
    "std_test_accuracy = np.std(test_accuracies)\n",
    "\n",
    "print(f\"Average Training Accuracy: {avg_train_accuracy:.2f}% ± {std_train_accuracy:.2f}%\")\n",
    "print(f\"Average Testing Accuracy: {avg_test_accuracy:.2f}% ± {std_test_accuracy:.2f}%\")"
   ]
  },
  {
   "cell_type": "code",
   "execution_count": 3,
   "metadata": {},
   "outputs": [],
   "source": [
    "def render_mnist_predictions(data, predicted, true_number, amount_correct, amount_false, is_fashion=False):\n",
    "  fashion_list = ['T-shirt/top', 'Trouser', 'Pullover', 'Dress', 'Coat', 'Sandal', 'Shirt', 'Sneaker', 'Bag', 'Ankle boot']\n",
    "  correct_indices = np.where(predicted == true_number)[0]\n",
    "  false_indices = np.where(predicted != true_number)[0]\n",
    "\n",
    "  fig, axes = plt.subplots(1, amount_correct, figsize=(15, 3))\n",
    "  for idx, ax in zip(correct_indices[:amount_correct], axes):\n",
    "    ax.imshow(data[idx].reshape(28, 28), cmap='gray')\n",
    "    if is_fashion:\n",
    "      ax.set_title(f\"predicted: {fashion_list[predicted[idx]]}/ {fashion_list[true_number[idx]]}\", fontsize=11)\n",
    "    else:\n",
    "      ax.set_title(f\"Predicted: {predicted[idx]}, True: {true_number[idx]}\")\n",
    "    ax.axis('off')\n",
    "  plt.suptitle('Predictions')\n",
    "  plt.show()\n",
    "\n",
    "  fig, axes = plt.subplots(1, amount_false, figsize=(15, 3))\n",
    "  for idx, ax in zip(false_indices[:amount_false], axes):\n",
    "    ax.imshow(data[idx].reshape(28, 28), cmap='gray')\n",
    "    if is_fashion:\n",
    "      ax.set_title(f\"y_hat: {fashion_list[predicted[idx]]}/ {fashion_list[true_number[idx]]}\", fontsize=11)\n",
    "    else:\n",
    "      ax.set_title(f\"Predicted: {predicted[idx]}, True: {true_number[idx]}\")\n",
    "    ax.axis('off')\n",
    "  plt.suptitle('Incorrect Predictions')\n",
    "  plt.show()"
   ]
  },
  {
   "cell_type": "code",
   "execution_count": 4,
   "metadata": {},
   "outputs": [],
   "source": [
    "# from augment_mnist import augment, render_mnist_augmentation\n",
    "\n",
    "# clean_mnist = mnist_train\n",
    "# augmented_mnist = augment(clean_mnist)\n",
    "# render_mnist_augmentation(clean_mnist.iloc[511:530], augmented_mnist.iloc[511:530], 5)"
   ]
  },
  {
   "cell_type": "code",
   "execution_count": 3,
   "metadata": {},
   "outputs": [
    {
     "name": "stdout",
     "output_type": "stream",
     "text": [
      "Input size: 60000, Output size: 10\n"
     ]
    },
    {
     "ename": "ValueError",
     "evalue": "shapes (64,784) and (60000,500) not aligned: 784 (dim 1) != 60000 (dim 0)",
     "output_type": "error",
     "traceback": [
      "\u001b[1;31m---------------------------------------------------------------------------\u001b[0m",
      "\u001b[1;31mValueError\u001b[0m                                Traceback (most recent call last)",
      "Cell \u001b[1;32mIn[3], line 3\u001b[0m\n\u001b[0;32m      1\u001b[0m \u001b[38;5;66;03m# 1 is removed for the input length since the first digit is the y variable\u001b[39;00m\n\u001b[0;32m      2\u001b[0m network \u001b[38;5;241m=\u001b[39m dynamic_mlp(mnist_train, mnist_test, \u001b[38;5;28mlen\u001b[39m(mnist_train[\u001b[38;5;241m0\u001b[39m] \u001b[38;5;241m-\u001b[39m \u001b[38;5;241m1\u001b[39m), \u001b[38;5;241m10\u001b[39m, \u001b[38;5;241m1\u001b[39m, [\u001b[38;5;241m500\u001b[39m])\n\u001b[1;32m----> 3\u001b[0m \u001b[43mnetwork\u001b[49m\u001b[38;5;241;43m.\u001b[39;49m\u001b[43mtrain\u001b[49m\u001b[43m(\u001b[49m\u001b[38;5;241;43m50\u001b[39;49m\u001b[43m,\u001b[49m\u001b[43m \u001b[49m\u001b[38;5;241;43m64\u001b[39;49m\u001b[43m)\u001b[49m\n",
      "File \u001b[1;32mc:\\code\\network\\models\\dynamic_mlp.py:51\u001b[0m, in \u001b[0;36mdynamic_mlp.train\u001b[1;34m(self, epochs, batch_size)\u001b[0m\n\u001b[0;32m     48\u001b[0m batch_y \u001b[38;5;241m=\u001b[39m y[start:end]\n\u001b[0;32m     50\u001b[0m \u001b[38;5;28;01mfor\u001b[39;00m layer \u001b[38;5;129;01min\u001b[39;00m \u001b[38;5;28mself\u001b[39m\u001b[38;5;241m.\u001b[39mnetwork:\n\u001b[1;32m---> 51\u001b[0m   batch_x \u001b[38;5;241m=\u001b[39m \u001b[43mlayer\u001b[49m\u001b[38;5;241;43m.\u001b[39;49m\u001b[43mforward\u001b[49m\u001b[43m(\u001b[49m\u001b[43mbatch_x\u001b[49m\u001b[43m)\u001b[49m\n\u001b[0;32m     52\u001b[0m y_hat \u001b[38;5;241m=\u001b[39m batch_x\n\u001b[0;32m     54\u001b[0m \u001b[38;5;28;01mfor\u001b[39;00m layer \u001b[38;5;129;01min\u001b[39;00m \u001b[38;5;28mreversed\u001b[39m(\u001b[38;5;28mself\u001b[39m\u001b[38;5;241m.\u001b[39mnetwork):\n\u001b[0;32m     55\u001b[0m   \u001b[38;5;66;03m# output layer, where initial gradient is calculated\u001b[39;00m\n",
      "File \u001b[1;32mc:\\code\\network\\models\\layers\\hidden_layer.py:26\u001b[0m, in \u001b[0;36mhidden_layer.forward\u001b[1;34m(self, x)\u001b[0m\n\u001b[0;32m     25\u001b[0m \u001b[38;5;28;01mdef\u001b[39;00m \u001b[38;5;21mforward\u001b[39m(\u001b[38;5;28mself\u001b[39m, x):\n\u001b[1;32m---> 26\u001b[0m   \u001b[38;5;28mself\u001b[39m\u001b[38;5;241m.\u001b[39mz \u001b[38;5;241m=\u001b[39m \u001b[43mnp\u001b[49m\u001b[38;5;241;43m.\u001b[39;49m\u001b[43mdot\u001b[49m\u001b[43m(\u001b[49m\u001b[43mx\u001b[49m\u001b[43m,\u001b[49m\u001b[43m \u001b[49m\u001b[38;5;28;43mself\u001b[39;49m\u001b[38;5;241;43m.\u001b[39;49m\u001b[43mweights\u001b[49m\u001b[43m)\u001b[49m \u001b[38;5;241m+\u001b[39m \u001b[38;5;28mself\u001b[39m\u001b[38;5;241m.\u001b[39mbias\n\u001b[0;32m     27\u001b[0m   \u001b[38;5;28mself\u001b[39m\u001b[38;5;241m.\u001b[39mactivation \u001b[38;5;241m=\u001b[39m \u001b[38;5;28mself\u001b[39m\u001b[38;5;241m.\u001b[39mrelu(\u001b[38;5;28mself\u001b[39m\u001b[38;5;241m.\u001b[39mz)\n\u001b[0;32m     28\u001b[0m   \u001b[38;5;28;01mreturn\u001b[39;00m \u001b[38;5;28mself\u001b[39m\u001b[38;5;241m.\u001b[39mactivation\n",
      "\u001b[1;31mValueError\u001b[0m: shapes (64,784) and (60000,500) not aligned: 784 (dim 1) != 60000 (dim 0)"
     ]
    }
   ],
   "source": [
    "# 1 is removed for the input length since the first digit is the y variable\n",
    "network = dynamic_mlp(mnist_train, mnist_test, len(mnist_train[0] - 1), 10, 1, [500])\n",
    "network.train(50, 64)"
   ]
  },
  {
   "cell_type": "markdown",
   "metadata": {},
   "source": [
    "# MNIST dataset"
   ]
  },
  {
   "cell_type": "code",
   "execution_count": null,
   "metadata": {},
   "outputs": [],
   "source": [
    "mnist_train_x = mnist_train.iloc[:, 1:].values / 255\n",
    "mnist_train_y = np.eye(10)[mnist_train.iloc[:, 0].values]\n",
    "mnist_test_x = mnist_test.iloc[:, 1:].values / 255\n",
    "mnist_test_y = np.eye(10)[mnist_test.iloc[:, 0].values]\n",
    "\n",
    "input_size = len(mnist_train_x[0])\n",
    "output_size = len(np.unique(mnist_train.iloc[:, 0].values))\n",
    "hidden_size = input_size // 2\n",
    "print(f\"input size: {input_size}, hidden size: {hidden_size}, output size: {output_size}\")\n",
    "\n",
    "network = Mlp(input_size, hidden_size, output_size)\n",
    "epochs = 10\n",
    "learning_rate = 0.01\n",
    "\n",
    "loss, accuracy = network.train_mbgd(mnist_train_x, mnist_train_y, epochs, learning_rate, 64)\n",
    "test_accuracy, predicted_class, true_class = network.evaluate(mnist_test_x, mnist_test_y)\n",
    "\n",
    "print(f\"Test accuracy in % {test_accuracy}\")\n",
    "render_mnist_predictions(mnist_test_x, predicted_class, true_class, 5, 5)"
   ]
  },
  {
   "cell_type": "markdown",
   "metadata": {},
   "source": [
    "# fashion MNIST dataset"
   ]
  },
  {
   "cell_type": "code",
   "execution_count": null,
   "metadata": {},
   "outputs": [],
   "source": [
    "fashion_mnist_train_x = fashion_mnist_train.iloc[:, 1:].values / 255\n",
    "fashion_mnist_train_y = np.eye(10)[fashion_mnist_train.iloc[:, 0].values]\n",
    "fashion_mnist_test_x = fashion_mnist_test.iloc[:, 1:].values / 255\n",
    "fashion_mnist_test_y = np.eye(10)[fashion_mnist_test.iloc[:, 0].values]\n",
    "\n",
    "input_size = len(fashion_mnist_train_x[0])\n",
    "output_size = len(np.unique(fashion_mnist_train.iloc[:, 0].values))\n",
    "hidden_size = input_size // 2\n",
    "print(f\"input size: {input_size}, hidden size: {hidden_size}, output size: {output_size}\")\n",
    "\n",
    "network = Mlp(input_size, hidden_size, output_size)\n",
    "epochs = 30\n",
    "learning_rate = 0.001\n",
    "\n",
    "loss, accuracy = network.train_mbgd(fashion_mnist_train_x, fashion_mnist_train_y, epochs, learning_rate, 64)\n",
    "test_accuracy, predicted_class, true_class = network.evaluate(fashion_mnist_test_x, fashion_mnist_test_y)\n",
    "\n",
    "print(f\"Test accuracy in % {test_accuracy}\")\n",
    "render_mnist_predictions(fashion_mnist_test_x, predicted_class, true_class, 5, 5, True)\n",
    "\n",
    "\n"
   ]
  }
 ],
 "metadata": {
  "kernelspec": {
   "display_name": "Python 3",
   "language": "python",
   "name": "python3"
  },
  "language_info": {
   "codemirror_mode": {
    "name": "ipython",
    "version": 3
   },
   "file_extension": ".py",
   "mimetype": "text/x-python",
   "name": "python",
   "nbconvert_exporter": "python",
   "pygments_lexer": "ipython3",
   "version": "3.12.3"
  }
 },
 "nbformat": 4,
 "nbformat_minor": 2
}
