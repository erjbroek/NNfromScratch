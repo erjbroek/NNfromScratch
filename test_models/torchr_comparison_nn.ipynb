{
 "cells": [
  {
   "cell_type": "markdown",
   "metadata": {},
   "source": [
    "this is an alternate model, that uses the same structured neural net (but from tensorflow), to see how my model compares"
   ]
  },
  {
   "cell_type": "code",
   "execution_count": 4,
   "metadata": {},
   "outputs": [],
   "source": [
    "import torch\n",
    "import torch.nn as nn\n",
    "import torch.optim as optim\n",
    "import torchvision\n",
    "import torchvision.transforms as transforms\n",
    "import pandas as pd"
   ]
  },
  {
   "cell_type": "code",
   "execution_count": 5,
   "metadata": {},
   "outputs": [
    {
     "data": {
      "text/plain": [
       "True"
      ]
     },
     "execution_count": 5,
     "metadata": {},
     "output_type": "execute_result"
    }
   ],
   "source": [
    "torch.cuda.is_available()"
   ]
  },
  {
   "cell_type": "code",
   "execution_count": 14,
   "metadata": {},
   "outputs": [],
   "source": [
    "mnist_train = pd.read_csv('../data/mnist/mnist_train.csv', header=None)\n",
    "mnist_test = pd.read_csv('../data/mnist/mnist_test.csv', header=None)\n",
    "\n",
    "mnist_train_x = mnist_train.iloc[:, 1:].values.reshape(-1, 1, 28, 28) / 255.0\n",
    "mnist_train_y = mnist_train.iloc[:, 0].values \n",
    "mnist_test_x = mnist_test.iloc[:, 1:].values.reshape(-1, 1, 28, 28) / 255.0\n",
    "mnist_test_y = mnist_test.iloc[:, 0].values\n",
    "\n",
    "\n",
    "mnist_train_x = torch.tensor(mnist_train_x, dtype=torch.float32)\n",
    "mnist_train_y = torch.tensor(mnist_train_y, dtype=torch.long)\n",
    "mnist_test_x = torch.tensor(mnist_test_x, dtype=torch.float32)\n",
    "mnist_test_y = torch.tensor(mnist_test_y, dtype=torch.long)"
   ]
  },
  {
   "cell_type": "code",
   "execution_count": null,
   "metadata": {},
   "outputs": [],
   "source": [
    "class "
   ]
  }
 ],
 "metadata": {
  "colab": {
   "name": "beginner.ipynb",
   "toc_visible": true
  },
  "kernelspec": {
   "display_name": "Python 3",
   "name": "python3"
  },
  "language_info": {
   "codemirror_mode": {
    "name": "ipython",
    "version": 3
   },
   "file_extension": ".py",
   "mimetype": "text/x-python",
   "name": "python",
   "nbconvert_exporter": "python",
   "pygments_lexer": "ipython3",
   "version": "3.10.11"
  }
 },
 "nbformat": 4,
 "nbformat_minor": 0
}
