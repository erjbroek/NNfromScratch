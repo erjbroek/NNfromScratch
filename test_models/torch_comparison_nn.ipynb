{
 "cells": [
  {
   "cell_type": "code",
   "execution_count": 25,
   "metadata": {},
   "outputs": [
    {
     "name": "stdout",
     "output_type": "stream",
     "text": [
      "CUDA is available. Using GPU.\n"
     ]
    }
   ],
   "source": [
    "import torch\n",
    "import torch.nn as nn\n",
    "import torch.optim as optim\n",
    "import pandas as pd\n",
    "from torch.utils.data import TensorDataset, DataLoader\n",
    "\n",
    "if torch.cuda.is_available():\n",
    "  device = torch.device(\"cuda\")\n",
    "  print(\"CUDA is available. Using GPU.\")\n",
    "else:\n",
    "  device = torch.device(\"cpu\")\n",
    "  print(\"CUDA is not available. Using CPU.\")\n",
    "\n",
    "use_gpu = True"
   ]
  },
  {
   "cell_type": "code",
   "execution_count": 26,
   "metadata": {},
   "outputs": [
    {
     "data": {
      "text/plain": [
       "True"
      ]
     },
     "execution_count": 26,
     "metadata": {},
     "output_type": "execute_result"
    }
   ],
   "source": [
    "mnist_train = pd.read_csv('../data/mnist/mnist_train.csv', header=None)\n",
    "mnist_test = pd.read_csv('../data/mnist/mnist_test.csv', header=None)\n",
    "\n",
    "mnist_train_x = mnist_train.iloc[:, 1:].values / 255.0\n",
    "mnist_train_y = mnist_train.iloc[:, 0].values \n",
    "mnist_test_x = mnist_test.iloc[:, 1:].values / 255.0\n",
    "mnist_test_y = mnist_test.iloc[:, 0].values\n",
    "\n",
    "\n",
    "if use_gpu:\n",
    "  mnist_train_x = torch.tensor(mnist_train_x, dtype=torch.float32).to(device)\n",
    "  mnist_train_y = torch.tensor(mnist_train_y, dtype=torch.long).to(device)\n",
    "  mnist_test_x = torch.tensor(mnist_test_x, dtype=torch.float32).to(device)\n",
    "  mnist_test_y = torch.tensor(mnist_test_y, dtype=torch.long).to(device)\n",
    "else:\n",
    "  mnist_train_x = torch.tensor(mnist_train_x, dtype=torch.float32)\n",
    "  mnist_train_y = torch.tensor(mnist_train_y, dtype=torch.long)\n",
    "  mnist_test_x = torch.tensor(mnist_test_x, dtype=torch.float32)\n",
    "  mnist_test_y = torch.tensor(mnist_test_y, dtype=torch.long)\n",
    "\n",
    "mnist_train_x.is_cuda"
   ]
  },
  {
   "cell_type": "code",
   "execution_count": 27,
   "metadata": {},
   "outputs": [],
   "source": [
    "class MNIST_Net(nn.Module):\n",
    "  def __init__(self):\n",
    "    super(MNIST_Net, self).__init__()\n",
    "    self.fc1 = nn.Linear(784, 500)\n",
    "    self.relu = nn.ReLU()\n",
    "    self.fc2 = nn.Linear(500, 10)\n",
    "    \n",
    "  def forward(self, x):\n",
    "    x = self.fc1(x)\n",
    "    x = self.relu(x)\n",
    "    x = self.fc2(x)\n",
    "    return x"
   ]
  },
  {
   "cell_type": "code",
   "execution_count": 28,
   "metadata": {},
   "outputs": [],
   "source": [
    "train_dataset = TensorDataset(mnist_train_x, mnist_train_y)\n",
    "test_dataset = TensorDataset(mnist_test_x, mnist_test_y)\n",
    "train_loader = DataLoader(train_dataset, batch_size=64, shuffle=True)\n",
    "test_loader = DataLoader(test_dataset, batch_size=64, shuffle=False)"
   ]
  },
  {
   "cell_type": "code",
   "execution_count": 29,
   "metadata": {},
   "outputs": [
    {
     "name": "stdout",
     "output_type": "stream",
     "text": [
      "Epoch [1/5], Loss: 0.2639, Accuracy: 92.44%\n",
      "Test Loss: 0.1312, Test Accuracy: 96.01%\n",
      "=========================================\n",
      "\n",
      "Epoch [2/5], Loss: 0.1013, Accuracy: 96.98%\n",
      "Test Loss: 0.0831, Test Accuracy: 97.42%\n",
      "=========================================\n",
      "\n",
      "Epoch [3/5], Loss: 0.0664, Accuracy: 98.02%\n",
      "Test Loss: 0.0700, Test Accuracy: 97.78%\n",
      "=========================================\n",
      "\n",
      "Epoch [4/5], Loss: 0.0457, Accuracy: 98.66%\n",
      "Test Loss: 0.0744, Test Accuracy: 97.75%\n",
      "=========================================\n",
      "\n",
      "Epoch [5/5], Loss: 0.0336, Accuracy: 98.96%\n",
      "Test Loss: 0.0690, Test Accuracy: 97.91%\n",
      "=========================================\n",
      "\n"
     ]
    }
   ],
   "source": [
    "if use_gpu:\n",
    "  model = MNIST_Net().to(device)\n",
    "else:\n",
    "    model = MNIST_Net()\n",
    "criterion = nn.CrossEntropyLoss()\n",
    "optimizer = optim.Adam(model.parameters(), lr=0.001)\n",
    "\n",
    "def train_model(model, train_loader, test_loader, criterion, optimizer, epochs=5):\n",
    "  for epoch in range(epochs):\n",
    "    model.train()\n",
    "    total_loss = 0\n",
    "    correct = 0\n",
    "    total = 0\n",
    "    for images, labels in train_loader:\n",
    "      optimizer.zero_grad()\n",
    "      outputs = model(images)\n",
    "      loss = criterion(outputs, labels)\n",
    "      loss.backward()\n",
    "      optimizer.step()\n",
    "      total_loss += loss.item()\n",
    "            \n",
    "      _, predicted = torch.max(outputs, 1)\n",
    "      correct += (predicted == labels).sum().item()\n",
    "      total += labels.size(0)\n",
    "        \n",
    "    train_accuracy = 100 * correct / total\n",
    "    print(f\"Epoch [{epoch+1}/{epochs}], Loss: {total_loss/len(train_loader):.4f}, Accuracy: {train_accuracy:.2f}%\")\n",
    "        \n",
    "    model.eval()\n",
    "    test_loss = 0\n",
    "    correct = 0\n",
    "    total = 0\n",
    "    with torch.no_grad():\n",
    "      for images, labels in test_loader:\n",
    "          outputs = model(images)\n",
    "          loss = criterion(outputs, labels)\n",
    "          test_loss += loss.item()\n",
    "          _, predicted = torch.max(outputs, 1)\n",
    "          correct += (predicted == labels).sum().item()\n",
    "          total += labels.size(0)\n",
    "        \n",
    "    test_accuracy = 100 * correct / total\n",
    "    print(f\"Test Loss: {test_loss/len(test_loader):.4f}, Test Accuracy: {test_accuracy:.2f}%\")\n",
    "    print(\"=========================================\")\n",
    "    print()\n",
    "\n",
    "train_model(model, train_loader, test_loader, criterion, optimizer, epochs=5)"
   ]
  },
  {
   "cell_type": "code",
   "execution_count": 24,
   "metadata": {},
   "outputs": [
    {
     "name": "stdout",
     "output_type": "stream",
     "text": [
      "Epoch [1/5], Loss: 0.2605, Accuracy: 92.60%\n",
      "Test Loss: 0.1213, Test Accuracy: 96.39%\n",
      "=========================================\n",
      "\n",
      "Epoch [2/5], Loss: 0.1004, Accuracy: 96.96%\n",
      "Test Loss: 0.0873, Test Accuracy: 97.26%\n",
      "=========================================\n",
      "\n",
      "Epoch [3/5], Loss: 0.0641, Accuracy: 98.06%\n",
      "Test Loss: 0.0768, Test Accuracy: 97.64%\n",
      "=========================================\n",
      "\n",
      "Epoch [4/5], Loss: 0.0448, Accuracy: 98.65%\n",
      "Test Loss: 0.0725, Test Accuracy: 97.78%\n",
      "=========================================\n",
      "\n",
      "Epoch [5/5], Loss: 0.0332, Accuracy: 98.97%\n",
      "Test Loss: 0.0649, Test Accuracy: 97.94%\n",
      "=========================================\n",
      "\n"
     ]
    }
   ],
   "source": [
    "if use_gpu:\n",
    "  model = MNIST_Net().to(device)\n",
    "else:\n",
    "    model = MNIST_Net()\n",
    "criterion = nn.CrossEntropyLoss()\n",
    "optimizer = optim.Adam(model.parameters(), lr=0.001)\n",
    "\n",
    "def train_model(model, train_loader, test_loader, criterion, optimizer, epochs=5):\n",
    "  for epoch in range(epochs):\n",
    "    model.train()\n",
    "    total_loss = 0\n",
    "    correct = 0\n",
    "    total = 0\n",
    "    for images, labels in train_loader:\n",
    "      optimizer.zero_grad()\n",
    "      outputs = model(images)\n",
    "      loss = criterion(outputs, labels)\n",
    "      loss.backward()\n",
    "      optimizer.step()\n",
    "      total_loss += loss.item()\n",
    "            \n",
    "      _, predicted = torch.max(outputs, 1)\n",
    "      correct += (predicted == labels).sum().item()\n",
    "      total += labels.size(0)\n",
    "        \n",
    "    train_accuracy = 100 * correct / total\n",
    "    print(f\"Epoch [{epoch+1}/{epochs}], Loss: {total_loss/len(train_loader):.4f}, Accuracy: {train_accuracy:.2f}%\")\n",
    "        \n",
    "    model.eval()\n",
    "    test_loss = 0\n",
    "    correct = 0\n",
    "    total = 0\n",
    "    with torch.no_grad():\n",
    "      for images, labels in test_loader:\n",
    "          outputs = model(images)\n",
    "          loss = criterion(outputs, labels)\n",
    "          test_loss += loss.item()\n",
    "          _, predicted = torch.max(outputs, 1)\n",
    "          correct += (predicted == labels).sum().item()\n",
    "          total += labels.size(0)\n",
    "        \n",
    "    test_accuracy = 100 * correct / total\n",
    "    print(f\"Test Loss: {test_loss/len(test_loader):.4f}, Test Accuracy: {test_accuracy:.2f}%\")\n",
    "    print(\"=========================================\")\n",
    "    print()\n",
    "\n",
    "train_model(model, train_loader, test_loader, criterion, optimizer, epochs=5)"
   ]
  }
 ],
 "metadata": {
  "kernelspec": {
   "display_name": "Python 3",
   "language": "python",
   "name": "python3"
  },
  "language_info": {
   "codemirror_mode": {
    "name": "ipython",
    "version": 3
   },
   "file_extension": ".py",
   "mimetype": "text/x-python",
   "name": "python",
   "nbconvert_exporter": "python",
   "pygments_lexer": "ipython3",
   "version": "3.10.11"
  }
 },
 "nbformat": 4,
 "nbformat_minor": 2
}
